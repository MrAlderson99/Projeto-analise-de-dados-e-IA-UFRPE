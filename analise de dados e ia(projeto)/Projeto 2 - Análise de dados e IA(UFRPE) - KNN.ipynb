{
 "cells": [
  {
   "cell_type": "code",
   "execution_count": 2,
   "metadata": {},
   "outputs": [],
   "source": [
    "import sklearn\n",
    "from sklearn import neighbors\n",
    "from sklearn.neighbors import KNeighborsClassifier\n",
    "from sklearn import metrics\n",
    "from sklearn import preprocessing\n",
    "from sklearn import metrics\n",
    "import plotly.plotly as py\n",
    "import plotly.graph_objs as go\n",
    "import plotly.figure_factory as FF\n",
    "import pandas as pd"
   ]
  },
  {
   "cell_type": "code",
   "execution_count": 3,
   "metadata": {},
   "outputs": [
    {
     "name": "stdout",
     "output_type": "stream",
     "text": [
      "Insira o caminho ate o arquivo: mytable.csv\n"
     ]
    }
   ],
   "source": [
    "#Este trabalho foi feito pensando na inserção de dados num arquivo .csv pelo usuário\n",
    "#Os dados são inseridos pelo caminho até o arquivo no computador\n",
    "#Após isso os dados são processados e a máquina é treinada e o resultado é apresentado\n",
    "#Também são exibidas informações quanto a precisão do algoritmo(80%) e dados afins\n",
    "\n",
    "le = preprocessing.LabelEncoder()\n",
    "\n",
    "#Inserção do arquivo ao qual quer se prever(ex: mytable.csv)\n",
    "path = input(\"Insira o caminho ate o arquivo: \")\n",
    "\n",
    "predicao = pd.read_csv(path)\n",
    "#predicao = pd.read_csv(\"mytable.csv\")\n",
    "df = pd.read_csv(\"KaggleV2-May-2016.csv\")\n",
    "\n",
    "#Resultados Esperados obtido para calculo de precisão do KNN, exclui todas as colunas menos a de no-show\n",
    "colunas = [\"PatientId\",  \"AppointmentID\", \"Gender\", \"ScheduledDay\", \"AppointmentDay\",  \"Age\", \"Neighbourhood\", \"Scholarship\",\n",
    "           \"Hipertension\",  \"Diabetes\",  \"Alcoholism\",  \"Handcap\",  \"SMS_received\"]\n",
    "dadoEsperado = predicao\n",
    "dadoEsperado = dadoEsperado.drop(columns=colunas, axis=1)\n",
    "\n",
    "\n",
    "\n",
    "#Foram descartadas as tabelas abaixo por não encontrar uma contribuição significativa para o algoritmo\n",
    "#ou por serem dados categóricos onde não pude tratar\n",
    "colunasRetiradas = [\"PatientId\",  \"AppointmentID\", \"ScheduledDay\", \"AppointmentDay\", \"Neighbourhood\"]\n",
    "\n",
    "predicao = predicao.drop(columns=colunasRetiradas, axis=1)\n",
    "df = df.drop(columns=colunasRetiradas, axis=1)\n",
    "\n",
    "#Pre-processamento\n",
    "#Caso o no-show seja No ele valerá 0 e caso seja Yes ele se tornará 1\n",
    "#Caso o gênero seja F ele valerá 0 e caso seja M ele se tornará 1\n",
    "preprocessamentoMulti = {'No': 0, 'Yes': 1, 'F': 0, 'M': 1}\n",
    "preprocessamentoSimples = {'No': 0, 'Yes': 1}\n",
    "preprocessamentoSimplesRev = {0:'No',  1:'Yes'}\n",
    "\n",
    "predicao = predicao.replace(preprocessamentoMulti)\n",
    "df = df.replace(preprocessamentoMulti)\n",
    "dadoEsperado = dadoEsperado.replace(preprocessamentoSimples)"
   ]
  },
  {
   "cell_type": "code",
   "execution_count": 4,
   "metadata": {},
   "outputs": [
    {
     "data": {
      "text/plain": [
       "KNeighborsClassifier(algorithm='auto', leaf_size=30, metric='minkowski',\n",
       "           metric_params=None, n_jobs=None, n_neighbors=28, p=2,\n",
       "           weights='uniform')"
      ]
     },
     "execution_count": 4,
     "metadata": {},
     "output_type": "execute_result"
    }
   ],
   "source": [
    "#Variável responsável por guardar o algoritmo para chamada futura\n",
    "#Foi definido 28 como sendo o número de vizinhos, pois seu resultado chega a 80% e abaixo disso fica entre 75%~80%\n",
    "clf = neighbors.KNeighborsClassifier(n_neighbors = 28)\n",
    "#Preenche o algoritmo com os dados da tabela e seus respectivos resultados e executa o treinamento\n",
    "clf.fit(df.loc[0:, \"Gender\":\"SMS_received\"], df['No-show'])"
   ]
  },
  {
   "cell_type": "code",
   "execution_count": 5,
   "metadata": {},
   "outputs": [
    {
     "name": "stdout",
     "output_type": "stream",
     "text": [
      "Accuracy: 0.8005029337803856\n",
      "              precision    recall  f1-score   support\n",
      "\n",
      "           0       0.80      1.00      0.89      9532\n",
      "           1       0.62      0.02      0.04      2398\n",
      "\n",
      "   micro avg       0.80      0.80      0.80     11930\n",
      "   macro avg       0.71      0.51      0.46     11930\n",
      "weighted avg       0.76      0.80      0.72     11930\n",
      "\n"
     ]
    }
   ],
   "source": [
    "#O resultado será os números previstos para cada um dos dados recebidos\n",
    "resultado = clf.predict(predicao.loc[0:, \"Gender\":\"SMS_received\"])\n",
    "resultado = pd.DataFrame(resultado,  columns = [\"NoShow\"]) #Altera o nome da coluna para NoShow\n",
    "\n",
    "#Mostra estatísticas sobre o knn como a precisão dele e demais informações\n",
    "print(\"Accuracy:\",metrics.accuracy_score(dadoEsperado, resultado))\n",
    "print(metrics.classification_report(dadoEsperado, resultado))\n",
    "\n",
    "#Revertendo o preprocessamento para poder plotar um gráfico de barras\n",
    "resultado = resultado.replace(preprocessamentoSimplesRev)"
   ]
  },
  {
   "cell_type": "code",
   "execution_count": 8,
   "metadata": {},
   "outputs": [
    {
     "data": {
      "text/html": [
       "<iframe id=\"igraph\" scrolling=\"no\" style=\"border:none;\" seamless=\"seamless\" src=\"https://plot.ly/~LucieltonManoel/28.embed\" height=\"525px\" width=\"100%\"></iframe>"
      ],
      "text/plain": [
       "<plotly.tools.PlotlyDisplay object>"
      ]
     },
     "execution_count": 8,
     "metadata": {},
     "output_type": "execute_result"
    }
   ],
   "source": [
    "#Cria o layout para o gráfico\n",
    "layout = go.Layout(\n",
    "    autosize=True,\n",
    "    title='Previsão da quantidadade de pessoas irão as consultas',\n",
    "    paper_bgcolor='#7f7f7f',\n",
    "    plot_bgcolor='#c7c7c7'\n",
    ")\n",
    "\n",
    "\n",
    "#Inicia a plotagem do gráfico\n",
    "trace = go.Histogram(x = resultado['NoShow'])\n",
    "data = [trace]\n",
    "fig = go.Figure(data=data, layout=layout)\n",
    "py.iplot(fig)"
   ]
  },
  {
   "cell_type": "code",
   "execution_count": 33,
   "metadata": {},
   "outputs": [],
   "source": [
    "#Plotagem alternativa gráfico de pizza\n",
    "import matplotlib.pyplot as plt"
   ]
  },
  {
   "cell_type": "code",
   "execution_count": 34,
   "metadata": {},
   "outputs": [],
   "source": [
    "total = resultado.count()\n",
    "pieChart = resultado.groupby('NoShow').size()\n",
    "labels = 'Yes', 'No'"
   ]
  },
  {
   "cell_type": "code",
   "execution_count": 35,
   "metadata": {},
   "outputs": [],
   "source": [
    "sizes = [(pieChart['Yes']/total)*100, (pieChart['No']/total)*100]"
   ]
  },
  {
   "cell_type": "code",
   "execution_count": 36,
   "metadata": {},
   "outputs": [
    {
     "data": {
      "image/png": "[encoded data removed]",
      "text/plain": [
       "<Figure size 432x288 with 1 Axes>"
      ]
     },
     "metadata": {},
     "output_type": "display_data"
    }
   ],
   "source": [
    "fig1, ax1 = plt.subplots()\n",
    "explode = (0, 0)\n",
    "\n",
    "ax1.pie(sizes, explode=explode, labels=labels, autopct='%1.1f%%',\n",
    "        shadow=True, startangle=90)\n",
    "ax1.axis('equal') \n",
    "\n",
    "plt.show()"
   ]
  },
  {
   "cell_type": "code",
   "execution_count": null,
   "metadata": {},
   "outputs": [],
   "source": []
  }
 ],
 "metadata": {
  "kernelspec": {
   "display_name": "Python 3",
   "language": "python",
   "name": "python3"
  },
  "language_info": {
   "codemirror_mode": {
    "name": "ipython",
    "version": 3
   },
   "file_extension": ".py",
   "mimetype": "text/x-python",
   "name": "python",
   "nbconvert_exporter": "python",
   "pygments_lexer": "ipython3",
   "version": "3.7.1"
  }
 },
 "nbformat": 4,
 "nbformat_minor": 2
}
