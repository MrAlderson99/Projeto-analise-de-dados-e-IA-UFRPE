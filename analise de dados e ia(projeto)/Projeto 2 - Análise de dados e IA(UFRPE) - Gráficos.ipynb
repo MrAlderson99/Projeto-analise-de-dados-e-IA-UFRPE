{
 "cells": [
  {
   "cell_type": "code",
   "execution_count": null,
   "metadata": {},
   "outputs": [],
   "source": [
    "#Database headers\n",
    "# 1.PatientId - Identification of a patient\n",
    "# 2.AppointmentID - Identification of each appointment\n",
    "# 3.Gender - Female is the greater proportion, woman takes way more care of they health in comparison to man.\n",
    "# 4.ScheduledDay - The day someone called or registered the appointment, this is before appointment of course.\n",
    "# 5.AppointmentDay - The day of the actuall appointment, when they have to visit the doctor.\n",
    "# 6.Age - How old is the patient.\n",
    "# 7.Neighbourhood -  Where the appointment takes place.\n",
    "# 8.Scholarship\n",
    "# 9.Hipertension\n",
    "# 10.Diabetes\n",
    "# 11.Alcoholism\n",
    "# 12.Handcap\n",
    "# 13.SMS_received\n",
    "# 14.No-show - a person who has made a reservation, booking, or appointment but neither keeps nor cancels it.\n",
    "\n",
    "#PatientId, AppointmentID, Gender, ScheduledDay, AppointmentDay, Age, Neighbourhood, Scholarship, Hipertension, Diabetes, Alcoholism, Handcap, SMS_received, No-show"
   ]
  },
  {
   "cell_type": "code",
   "execution_count": 2,
   "metadata": {},
   "outputs": [],
   "source": [
    "import plotly\n",
    "import plotly.plotly as py\n",
    "import plotly.tools as tls\n",
    "import plotly.graph_objs as go\n",
    "import plotly.figure_factory as FF\n",
    "import matplotlib.pyplot as plt\n",
    "import pandas as pd"
   ]
  },
  {
   "cell_type": "code",
   "execution_count": 3,
   "metadata": {},
   "outputs": [],
   "source": [
    "plotly.tools.set_credentials_file(username='LucieltonManoel', api_key='SuOUCFC8EMGVnAuSEcpl')"
   ]
  },
  {
   "cell_type": "code",
   "execution_count": 4,
   "metadata": {},
   "outputs": [],
   "source": [
    "df = pd.read_csv(\"KaggleV2-May-2016.csv\")"
   ]
  },
  {
   "cell_type": "code",
   "execution_count": 5,
   "metadata": {},
   "outputs": [
    {
     "name": "stderr",
     "output_type": "stream",
     "text": [
      "C:\\Users\\joker\\Anaconda3\\lib\\site-packages\\plotly\\plotly\\plotly.py:230: UserWarning:\n",
      "\n",
      "Woah there! Look at all those points! Due to browser limitations, the Plotly SVG drawing functions have a hard time graphing more than 500k data points for line charts, or 40k points for other types of charts. Here are some suggestions:\n",
      "(1) Use the `plotly.graph_objs.Scattergl` trace object to generate a WebGl graph.\n",
      "(2) Trying using the image API to return an image instead of a graph URL\n",
      "(3) Use matplotlib\n",
      "(4) See if you can create your visualization with fewer data points\n",
      "\n",
      "If the visualization you're using aggregates points (e.g., box plot, histogram, etc.) you can disregard this warning.\n",
      "\n",
      "C:\\Users\\joker\\Anaconda3\\lib\\site-packages\\IPython\\core\\display.py:689: UserWarning:\n",
      "\n",
      "Consider using IPython.display.IFrame instead\n",
      "\n"
     ]
    },
    {
     "data": {
      "text/html": [
       "<iframe id=\"igraph\" scrolling=\"no\" style=\"border:none;\" seamless=\"seamless\" src=\"https://plot.ly/~LucieltonManoel/30.embed\" height=\"525px\" width=\"100%\"></iframe>"
      ],
      "text/plain": [
       "<plotly.tools.PlotlyDisplay object>"
      ]
     },
     "execution_count": 5,
     "metadata": {},
     "output_type": "execute_result"
    }
   ],
   "source": [
    "subset = df[df['No-show'] == \"No\"]\n",
    "\n",
    "layout = go.Layout(\n",
    "    title='Quantidadade de pessoas que foram para a consulta, organizadas por idade'\n",
    ")\n",
    "\n",
    "trace = go.Histogram(x = subset['Age'])\n",
    "data = [trace]\n",
    "fig = go.Figure(data=data, layout=layout)\n",
    "py.iplot(fig)"
   ]
  },
  {
   "cell_type": "code",
   "execution_count": 6,
   "metadata": {
    "scrolled": false
   },
   "outputs": [
    {
     "data": {
      "text/html": [
       "<iframe id=\"igraph\" scrolling=\"no\" style=\"border:none;\" seamless=\"seamless\" src=\"https://plot.ly/~LucieltonManoel/32.embed\" height=\"525px\" width=\"100%\"></iframe>"
      ],
      "text/plain": [
       "<plotly.tools.PlotlyDisplay object>"
      ]
     },
     "execution_count": 6,
     "metadata": {},
     "output_type": "execute_result"
    }
   ],
   "source": [
    "total = df.groupby(by=\"Neighbourhood\")\n",
    "subset = df[df['No-show'] == \"No\"]\n",
    "values = subset.groupby(by=\"Neighbourhood\")\n",
    "\n",
    "#dataframe[column].value_counts().index.tolist()\n",
    "LABELS = df[\"Neighbourhood\"].value_counts().index.tolist()\n",
    "\n",
    "#Mostra a quantidade de pessoas alocadas para cada localização\n",
    "layout = go.Layout(\n",
    "    autosize=True,\n",
    "    title='Quantidadade de consultas idas e marcadas por localidade',\n",
    "    paper_bgcolor='#7f7f7f',\n",
    "    plot_bgcolor='#c7c7c7'\n",
    ")\n",
    "\n",
    "trace1 = go.Bar(\n",
    "    x = LABELS, \n",
    "    #y = subset.groupby(by=\"Neighbourhood\").size()\n",
    "    y = subset[\"Neighbourhood\"].value_counts(),\n",
    "    name='Comparecidas')\n",
    "\n",
    "trace2 = go.Bar(\n",
    "    x = LABELS,\n",
    "    #y = df.groupby(by=\"Neighbourhood\").size()\n",
    "    y = df[\"Neighbourhood\"].value_counts(),\n",
    "    name='Marcadas')\n",
    "\n",
    "data = [trace1, trace2]\n",
    "fig = go.Figure(data=data, layout=layout)\n",
    "py.iplot(fig)"
   ]
  },
  {
   "cell_type": "code",
   "execution_count": 9,
   "metadata": {
    "scrolled": false
   },
   "outputs": [
    {
     "data": {
      "text/html": [
       "<iframe id=\"igraph\" scrolling=\"no\" style=\"border:none;\" seamless=\"seamless\" src=\"https://plot.ly/~LucieltonManoel/12.embed\" height=\"525px\" width=\"100%\"></iframe>"
      ],
      "text/plain": [
       "<plotly.tools.PlotlyDisplay object>"
      ]
     },
     "execution_count": 9,
     "metadata": {},
     "output_type": "execute_result"
    }
   ],
   "source": [
    "labels = [\"scholarshipTotal\", \"hipertensionTotal\", \"diabetesTotal\", \"alcoholismTotal\", \"handcapTotal\"]\n",
    "\n",
    "scholarshipTotal = df[(df['Scholarship'] == 1) & \n",
    "                      (df['Hipertension'] == 0) & \n",
    "                      (df['Diabetes'] == 0) & \n",
    "                      (df['Alcoholism'] == 0) & \n",
    "                      (df['Handcap'] == 0)]\n",
    "scholarshipComparecidas = scholarshipTotal[scholarshipTotal['No-show'] == \"No\"]\n",
    "hipertensionTotal = df[(df['Scholarship'] == 0) & \n",
    "                      (df['Hipertension'] == 1) & \n",
    "                      (df['Diabetes'] == 0) & \n",
    "                      (df['Alcoholism'] == 0) & \n",
    "                      (df['Handcap'] == 0)]\n",
    "hipertensionComparecidas = hipertensionTotal[hipertensionTotal['No-show'] == \"No\"]\n",
    "diabetesTotal = df[(df['Scholarship'] == 0) & \n",
    "                      (df['Hipertension'] == 0) & \n",
    "                      (df['Diabetes'] == 1) & \n",
    "                      (df['Alcoholism'] == 0) & \n",
    "                      (df['Handcap'] == 0)]\n",
    "diabetesComparecidas = diabetesTotal[diabetesTotal['No-show'] == \"No\"]\n",
    "alcoholismTotal = df[(df['Scholarship'] == 0) & \n",
    "                      (df['Hipertension'] == 0) & \n",
    "                      (df['Diabetes'] == 0) & \n",
    "                      (df['Alcoholism'] == 1) & \n",
    "                      (df['Handcap'] == 0)]\n",
    "alcoholismComparecidas = alcoholismTotal[alcoholismTotal['No-show'] == \"No\"]\n",
    "handcapTotal = df[(df['Scholarship'] == 1) & \n",
    "                      (df['Hipertension'] == 0) & \n",
    "                      (df['Diabetes'] == 0) & \n",
    "                      (df['Alcoholism'] == 0) & \n",
    "                      (df['Handcap'] == 1)]\n",
    "handcapComparecidas = handcapTotal[handcapTotal['No-show'] == \"No\"]\n",
    "\n",
    "arrTotais= []\n",
    "arrComparecidas = []\n",
    "arrTotais.extend((scholarshipTotal['No-show'].value_counts().sum(), \n",
    "                  hipertensionTotal['No-show'].value_counts().sum(), \n",
    "                  diabetesTotal['No-show'].value_counts().sum(), \n",
    "                  alcoholismTotal['No-show'].value_counts().sum(), \n",
    "                  handcapTotal['No-show'].value_counts().sum()))\n",
    "arrComparecidas.extend((scholarshipComparecidas['No-show'].value_counts(), \n",
    "                        hipertensionComparecidas['No-show'].value_counts(),\n",
    "                        diabetesComparecidas['No-show'].value_counts(), \n",
    "                        alcoholismComparecidas['No-show'].value_counts(), \n",
    "                        handcapComparecidas['No-show'].value_counts()))\n",
    "\n",
    "trace1 = go.Bar(\n",
    "    x = labels,\n",
    "    y= arrTotais,\n",
    "    name='Marcadas',\n",
    "    marker=dict(\n",
    "        color='rgb(55, 83, 109)'\n",
    "    )\n",
    ")\n",
    "trace2 = go.Bar(\n",
    "    x= labels,\n",
    "    y= arrComparecidas,\n",
    "    name='Comparecidas',\n",
    "    marker=dict(\n",
    "        color='rgb(26, 118, 255)'\n",
    "    )\n",
    ")\n",
    "\n",
    "data = [trace1, trace2]\n",
    "\n",
    "layout = go.Layout(\n",
    "    title='Quantidade de consultas marcadas e idas de acordo com cada problema',\n",
    "    xaxis=dict(\n",
    "        tickfont=dict(\n",
    "            size=14,\n",
    "            color='rgb(107, 107, 107)'\n",
    "        )\n",
    "    ),\n",
    "    yaxis=dict(\n",
    "        title='',\n",
    "        titlefont=dict(\n",
    "            size=16,\n",
    "            color='rgb(107, 107, 107)'\n",
    "        ),\n",
    "        tickfont=dict(\n",
    "            size=14,\n",
    "            color='rgb(107, 107, 107)'\n",
    "        )\n",
    "    ),\n",
    "    legend=dict(\n",
    "        x=0,\n",
    "        y=1.0,\n",
    "        bgcolor='rgba(255, 255, 255, 0)',\n",
    "        bordercolor='rgba(255, 255, 255, 0)'\n",
    "    ),\n",
    "    barmode='group',\n",
    "    bargap=0.15,\n",
    "    bargroupgap=0.1\n",
    ")\n",
    "\n",
    "fig = go.Figure(data=data, layout=layout)\n",
    "py.iplot(fig, filename='style-bar')"
   ]
  },
  {
   "cell_type": "code",
   "execution_count": null,
   "metadata": {},
   "outputs": [],
   "source": [
    "#idéias de gráficos para mostrar a influência das variáveis\n",
    "#1. Quantidade de Pessoas que marcam consulta por genero \n",
    "#2. Quantidade de fumantes por gênero que vão para a consulta \n",
    "#3. Quantidade de alcolatras por gênero que vão para a consulta\n",
    "#4. Quantidade de diabéticos por gênero que vão para a consulta\n",
    "#5. Quantidade de fumantes por idade que vão para a consulta\n",
    "#6. Quantidade de alcolatras por idade que vão para a consulta\n",
    "#7. Quantidade de diabéticos por idade que vão para a consulta\n",
    "#8. Quantidade de pessoas alocadas para um dia na semana(Distribuição das consultas)\n",
    "#9. Quantidade de pessoas que foram por dia da semana(Ver o dia que mais gente foi)\n",
    "#10. Pessoas com scholarship se importam mais com a saúde do que as pessoas sem?\n",
    "#11. Quantas pessoas do #10 foram pras consulta realmente.\n",
    "#12. Porcentagem de pessoas que receberam sms e foram\n",
    "#13. Quantidade de consultas marcadas por idade(Em qual idade as pessoas se importam mais com a saúde?)"
   ]
  }
 ],
 "metadata": {
  "kernelspec": {
   "display_name": "Python 3",
   "language": "python",
   "name": "python3"
  },
  "language_info": {
   "codemirror_mode": {
    "name": "ipython",
    "version": 3
   },
   "file_extension": ".py",
   "mimetype": "text/x-python",
   "name": "python",
   "nbconvert_exporter": "python",
   "pygments_lexer": "ipython3",
   "version": "3.7.1"
  }
 },
 "nbformat": 4,
 "nbformat_minor": 2
}
